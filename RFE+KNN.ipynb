{
 "cells": [
  {
   "cell_type": "code",
   "execution_count": 1,
   "id": "national-directory",
   "metadata": {},
   "outputs": [],
   "source": [
    "import pandas as pd\n"
   ]
  },
  {
   "cell_type": "code",
   "execution_count": 4,
   "id": "cellular-wound",
   "metadata": {},
   "outputs": [
    {
     "data": {
      "text/html": [
       "<div>\n",
       "<style scoped>\n",
       "    .dataframe tbody tr th:only-of-type {\n",
       "        vertical-align: middle;\n",
       "    }\n",
       "\n",
       "    .dataframe tbody tr th {\n",
       "        vertical-align: top;\n",
       "    }\n",
       "\n",
       "    .dataframe thead th {\n",
       "        text-align: right;\n",
       "    }\n",
       "</style>\n",
       "<table border=\"1\" class=\"dataframe\">\n",
       "  <thead>\n",
       "    <tr style=\"text-align: right;\">\n",
       "      <th></th>\n",
       "      <th>School</th>\n",
       "      <th>Conf</th>\n",
       "      <th>G</th>\n",
       "      <th>GS</th>\n",
       "      <th>MP</th>\n",
       "      <th>FG</th>\n",
       "      <th>FGA</th>\n",
       "      <th>FGPCT</th>\n",
       "      <th>2P</th>\n",
       "      <th>2PA</th>\n",
       "      <th>...</th>\n",
       "      <th>TOV</th>\n",
       "      <th>PF</th>\n",
       "      <th>PTS</th>\n",
       "      <th>player_x</th>\n",
       "      <th>last_season</th>\n",
       "      <th>unique_player_key</th>\n",
       "      <th>draft_year</th>\n",
       "      <th>new_key</th>\n",
       "      <th>round</th>\n",
       "      <th>pick</th>\n",
       "    </tr>\n",
       "  </thead>\n",
       "  <tbody>\n",
       "    <tr>\n",
       "      <th>0</th>\n",
       "      <td>Canisius</td>\n",
       "      <td>0.0</td>\n",
       "      <td>41.0</td>\n",
       "      <td>19.0</td>\n",
       "      <td>546.0</td>\n",
       "      <td>2.6</td>\n",
       "      <td>6.4</td>\n",
       "      <td>0.414</td>\n",
       "      <td>2.6</td>\n",
       "      <td>6.2</td>\n",
       "      <td>...</td>\n",
       "      <td>2.9</td>\n",
       "      <td>6.7</td>\n",
       "      <td>7.3</td>\n",
       "      <td>Menghe a'Nyam</td>\n",
       "      <td>2007-08</td>\n",
       "      <td>Menghe a'Nyam, Canisius, 2007-08</td>\n",
       "      <td>2008</td>\n",
       "      <td>Menghe a'Nyam, 2008</td>\n",
       "      <td>0</td>\n",
       "      <td>0</td>\n",
       "    </tr>\n",
       "    <tr>\n",
       "      <th>1</th>\n",
       "      <td>North Dakota State</td>\n",
       "      <td>0.0</td>\n",
       "      <td>115.0</td>\n",
       "      <td>16.0</td>\n",
       "      <td>1287.0</td>\n",
       "      <td>5.2</td>\n",
       "      <td>8.4</td>\n",
       "      <td>0.619</td>\n",
       "      <td>5.2</td>\n",
       "      <td>8.4</td>\n",
       "      <td>...</td>\n",
       "      <td>2.1</td>\n",
       "      <td>5.8</td>\n",
       "      <td>12.5</td>\n",
       "      <td>Jordan Aaberg</td>\n",
       "      <td>2013-14</td>\n",
       "      <td>Jordan Aaberg, North Dakota State, 2013-14</td>\n",
       "      <td>2014</td>\n",
       "      <td>Jordan Aaberg, 2014</td>\n",
       "      <td>0</td>\n",
       "      <td>0</td>\n",
       "    </tr>\n",
       "    <tr>\n",
       "      <th>2</th>\n",
       "      <td>Portland</td>\n",
       "      <td>0.0</td>\n",
       "      <td>92.0</td>\n",
       "      <td>29.0</td>\n",
       "      <td>1513.0</td>\n",
       "      <td>3.4</td>\n",
       "      <td>9.7</td>\n",
       "      <td>0.346</td>\n",
       "      <td>1.1</td>\n",
       "      <td>3.0</td>\n",
       "      <td>...</td>\n",
       "      <td>2.1</td>\n",
       "      <td>5.7</td>\n",
       "      <td>9.9</td>\n",
       "      <td>Karl Aaker</td>\n",
       "      <td>2004-05</td>\n",
       "      <td>Karl Aaker, Portland, 2004-05</td>\n",
       "      <td>2005</td>\n",
       "      <td>Karl Aaker, 2005</td>\n",
       "      <td>0</td>\n",
       "      <td>0</td>\n",
       "    </tr>\n",
       "    <tr>\n",
       "      <th>3</th>\n",
       "      <td>Overall</td>\n",
       "      <td>0.0</td>\n",
       "      <td>107.0</td>\n",
       "      <td>55.0</td>\n",
       "      <td>2037.0</td>\n",
       "      <td>6.5</td>\n",
       "      <td>13.6</td>\n",
       "      <td>0.473</td>\n",
       "      <td>6.5</td>\n",
       "      <td>13.6</td>\n",
       "      <td>...</td>\n",
       "      <td>2.6</td>\n",
       "      <td>5.1</td>\n",
       "      <td>16.6</td>\n",
       "      <td>Mike Aaman</td>\n",
       "      <td>2016-17</td>\n",
       "      <td>Mike Aaman, Overall, 2016-17</td>\n",
       "      <td>2017</td>\n",
       "      <td>Mike Aaman, 2017</td>\n",
       "      <td>0</td>\n",
       "      <td>0</td>\n",
       "    </tr>\n",
       "    <tr>\n",
       "      <th>4</th>\n",
       "      <td>Marquette</td>\n",
       "      <td>0.0</td>\n",
       "      <td>45.0</td>\n",
       "      <td>1.0</td>\n",
       "      <td>175.0</td>\n",
       "      <td>3.9</td>\n",
       "      <td>9.1</td>\n",
       "      <td>0.425</td>\n",
       "      <td>2.7</td>\n",
       "      <td>5.7</td>\n",
       "      <td>...</td>\n",
       "      <td>5.0</td>\n",
       "      <td>2.3</td>\n",
       "      <td>13.3</td>\n",
       "      <td>Craig Aamot</td>\n",
       "      <td>1992-93</td>\n",
       "      <td>Craig Aamot, Marquette, 1992-93</td>\n",
       "      <td>1993</td>\n",
       "      <td>Craig Aamot, 1993</td>\n",
       "      <td>0</td>\n",
       "      <td>0</td>\n",
       "    </tr>\n",
       "    <tr>\n",
       "      <th>...</th>\n",
       "      <td>...</td>\n",
       "      <td>...</td>\n",
       "      <td>...</td>\n",
       "      <td>...</td>\n",
       "      <td>...</td>\n",
       "      <td>...</td>\n",
       "      <td>...</td>\n",
       "      <td>...</td>\n",
       "      <td>...</td>\n",
       "      <td>...</td>\n",
       "      <td>...</td>\n",
       "      <td>...</td>\n",
       "      <td>...</td>\n",
       "      <td>...</td>\n",
       "      <td>...</td>\n",
       "      <td>...</td>\n",
       "      <td>...</td>\n",
       "      <td>...</td>\n",
       "      <td>...</td>\n",
       "      <td>...</td>\n",
       "      <td>...</td>\n",
       "    </tr>\n",
       "    <tr>\n",
       "      <th>51999</th>\n",
       "      <td>VMI</td>\n",
       "      <td>0.0</td>\n",
       "      <td>6.0</td>\n",
       "      <td>0.0</td>\n",
       "      <td>17.0</td>\n",
       "      <td>9.4</td>\n",
       "      <td>21.2</td>\n",
       "      <td>0.444</td>\n",
       "      <td>2.4</td>\n",
       "      <td>4.7</td>\n",
       "      <td>...</td>\n",
       "      <td>4.7</td>\n",
       "      <td>4.7</td>\n",
       "      <td>25.9</td>\n",
       "      <td>Clint Zwayer</td>\n",
       "      <td>2001-02</td>\n",
       "      <td>Clint Zwayer, VMI, 2001-02</td>\n",
       "      <td>2002</td>\n",
       "      <td>Clint Zwayer, 2002</td>\n",
       "      <td>0</td>\n",
       "      <td>0</td>\n",
       "    </tr>\n",
       "    <tr>\n",
       "      <th>52000</th>\n",
       "      <td>Richmond</td>\n",
       "      <td>0.0</td>\n",
       "      <td>114.0</td>\n",
       "      <td>40.0</td>\n",
       "      <td>2035.0</td>\n",
       "      <td>5.1</td>\n",
       "      <td>10.0</td>\n",
       "      <td>0.515</td>\n",
       "      <td>5.1</td>\n",
       "      <td>9.9</td>\n",
       "      <td>...</td>\n",
       "      <td>1.8</td>\n",
       "      <td>5.6</td>\n",
       "      <td>13.4</td>\n",
       "      <td>Eric Zwayer</td>\n",
       "      <td>2003-04</td>\n",
       "      <td>Eric Zwayer, Richmond, 2003-04</td>\n",
       "      <td>2004</td>\n",
       "      <td>Eric Zwayer, 2004</td>\n",
       "      <td>0</td>\n",
       "      <td>0</td>\n",
       "    </tr>\n",
       "    <tr>\n",
       "      <th>52001</th>\n",
       "      <td>UNC</td>\n",
       "      <td>0.0</td>\n",
       "      <td>120.0</td>\n",
       "      <td>66.0</td>\n",
       "      <td>2423.0</td>\n",
       "      <td>6.0</td>\n",
       "      <td>12.0</td>\n",
       "      <td>0.501</td>\n",
       "      <td>6.0</td>\n",
       "      <td>12.0</td>\n",
       "      <td>...</td>\n",
       "      <td>1.6</td>\n",
       "      <td>3.8</td>\n",
       "      <td>13.8</td>\n",
       "      <td>Serge Zwikker</td>\n",
       "      <td>1996-97</td>\n",
       "      <td>Serge Zwikker, UNC, 1996-97</td>\n",
       "      <td>1997</td>\n",
       "      <td>Serge Zwikker, 1997</td>\n",
       "      <td>2</td>\n",
       "      <td>29</td>\n",
       "    </tr>\n",
       "    <tr>\n",
       "      <th>52002</th>\n",
       "      <td>Stony Brook</td>\n",
       "      <td>0.0</td>\n",
       "      <td>2.0</td>\n",
       "      <td>0.0</td>\n",
       "      <td>7.0</td>\n",
       "      <td>5.7</td>\n",
       "      <td>17.1</td>\n",
       "      <td>0.333</td>\n",
       "      <td>0.0</td>\n",
       "      <td>11.4</td>\n",
       "      <td>...</td>\n",
       "      <td>0.0</td>\n",
       "      <td>5.7</td>\n",
       "      <td>17.1</td>\n",
       "      <td>Michal Zylinski</td>\n",
       "      <td>2008-09</td>\n",
       "      <td>Michal Zylinski, Stony Brook, 2008-09</td>\n",
       "      <td>2009</td>\n",
       "      <td>Michal Zylinski, 2009</td>\n",
       "      <td>0</td>\n",
       "      <td>0</td>\n",
       "    </tr>\n",
       "    <tr>\n",
       "      <th>52003</th>\n",
       "      <td>BYU</td>\n",
       "      <td>0.0</td>\n",
       "      <td>119.0</td>\n",
       "      <td>61.0</td>\n",
       "      <td>2100.0</td>\n",
       "      <td>4.0</td>\n",
       "      <td>9.3</td>\n",
       "      <td>0.429</td>\n",
       "      <td>2.0</td>\n",
       "      <td>3.8</td>\n",
       "      <td>...</td>\n",
       "      <td>1.8</td>\n",
       "      <td>3.0</td>\n",
       "      <td>11.6</td>\n",
       "      <td>Brock Zylstra</td>\n",
       "      <td>2012-13</td>\n",
       "      <td>Brock Zylstra, BYU, 2012-13</td>\n",
       "      <td>2013</td>\n",
       "      <td>Brock Zylstra, 2013</td>\n",
       "      <td>0</td>\n",
       "      <td>0</td>\n",
       "    </tr>\n",
       "  </tbody>\n",
       "</table>\n",
       "<p>52004 rows × 31 columns</p>\n",
       "</div>"
      ],
      "text/plain": [
       "                   School  Conf      G    GS      MP   FG   FGA  FGPCT   2P  \\\n",
       "0                Canisius   0.0   41.0  19.0   546.0  2.6   6.4  0.414  2.6   \n",
       "1      North Dakota State   0.0  115.0  16.0  1287.0  5.2   8.4  0.619  5.2   \n",
       "2                Portland   0.0   92.0  29.0  1513.0  3.4   9.7  0.346  1.1   \n",
       "3                 Overall   0.0  107.0  55.0  2037.0  6.5  13.6  0.473  6.5   \n",
       "4               Marquette   0.0   45.0   1.0   175.0  3.9   9.1  0.425  2.7   \n",
       "...                   ...   ...    ...   ...     ...  ...   ...    ...  ...   \n",
       "51999                 VMI   0.0    6.0   0.0    17.0  9.4  21.2  0.444  2.4   \n",
       "52000            Richmond   0.0  114.0  40.0  2035.0  5.1  10.0  0.515  5.1   \n",
       "52001                 UNC   0.0  120.0  66.0  2423.0  6.0  12.0  0.501  6.0   \n",
       "52002         Stony Brook   0.0    2.0   0.0     7.0  5.7  17.1  0.333  0.0   \n",
       "52003                 BYU   0.0  119.0  61.0  2100.0  4.0   9.3  0.429  2.0   \n",
       "\n",
       "        2PA  ...  TOV   PF   PTS         player_x  last_season  \\\n",
       "0       6.2  ...  2.9  6.7   7.3    Menghe a'Nyam      2007-08   \n",
       "1       8.4  ...  2.1  5.8  12.5    Jordan Aaberg      2013-14   \n",
       "2       3.0  ...  2.1  5.7   9.9       Karl Aaker      2004-05   \n",
       "3      13.6  ...  2.6  5.1  16.6       Mike Aaman      2016-17   \n",
       "4       5.7  ...  5.0  2.3  13.3      Craig Aamot      1992-93   \n",
       "...     ...  ...  ...  ...   ...              ...          ...   \n",
       "51999   4.7  ...  4.7  4.7  25.9     Clint Zwayer      2001-02   \n",
       "52000   9.9  ...  1.8  5.6  13.4      Eric Zwayer      2003-04   \n",
       "52001  12.0  ...  1.6  3.8  13.8    Serge Zwikker      1996-97   \n",
       "52002  11.4  ...  0.0  5.7  17.1  Michal Zylinski      2008-09   \n",
       "52003   3.8  ...  1.8  3.0  11.6    Brock Zylstra      2012-13   \n",
       "\n",
       "                                unique_player_key  draft_year  \\\n",
       "0                Menghe a'Nyam, Canisius, 2007-08        2008   \n",
       "1      Jordan Aaberg, North Dakota State, 2013-14        2014   \n",
       "2                   Karl Aaker, Portland, 2004-05        2005   \n",
       "3                    Mike Aaman, Overall, 2016-17        2017   \n",
       "4                 Craig Aamot, Marquette, 1992-93        1993   \n",
       "...                                           ...         ...   \n",
       "51999                  Clint Zwayer, VMI, 2001-02        2002   \n",
       "52000              Eric Zwayer, Richmond, 2003-04        2004   \n",
       "52001                 Serge Zwikker, UNC, 1996-97        1997   \n",
       "52002       Michal Zylinski, Stony Brook, 2008-09        2009   \n",
       "52003                 Brock Zylstra, BYU, 2012-13        2013   \n",
       "\n",
       "                     new_key  round  pick  \n",
       "0        Menghe a'Nyam, 2008      0     0  \n",
       "1        Jordan Aaberg, 2014      0     0  \n",
       "2           Karl Aaker, 2005      0     0  \n",
       "3           Mike Aaman, 2017      0     0  \n",
       "4          Craig Aamot, 1993      0     0  \n",
       "...                      ...    ...   ...  \n",
       "51999     Clint Zwayer, 2002      0     0  \n",
       "52000      Eric Zwayer, 2004      0     0  \n",
       "52001    Serge Zwikker, 1997      2    29  \n",
       "52002  Michal Zylinski, 2009      0     0  \n",
       "52003    Brock Zylstra, 2013      0     0  \n",
       "\n",
       "[52004 rows x 31 columns]"
      ]
     },
     "execution_count": 4,
     "metadata": {},
     "output_type": "execute_result"
    }
   ],
   "source": [
    "combined_df = pd.read_csv('/Users/elliottlevy/slam-dunk-analytics/combined.csv')\n",
    "combined_df"
   ]
  },
  {
   "cell_type": "code",
   "execution_count": 5,
   "id": "rising-approval",
   "metadata": {},
   "outputs": [],
   "source": [
    "X = combined_df[['G', 'GS', 'MP',\n",
    "       'FG', 'FGA', 'FGPCT', '2P', '2PA', '2PPCT', '3P', '3PA', '3PPCT', 'FT',\n",
    "       'FTA', 'FTPCT', 'TRB', 'AST', 'STL', 'BLK', 'TOV', 'PF', 'PTS',]]\n",
    "y = combined_df['round'].values.reshape(-1, 1)\n",
    "\n",
    "from sklearn.model_selection import train_test_split\n",
    "\n",
    "X_train, X_test, y_train, y_test = train_test_split(X, y, random_state=42, stratify=y)\n",
    "\n",
    "from sklearn.preprocessing import StandardScaler\n",
    "\n",
    "X_scaler = StandardScaler().fit(X_train)\n",
    "\n",
    "X_train_scaled = X_scaler.transform(X_train)\n",
    "X_test_scaled = X_scaler.transform(X_test)\n",
    "\n"
   ]
  },
  {
   "cell_type": "markdown",
   "id": "federal-spanish",
   "metadata": {},
   "source": [
    "## RFE"
   ]
  },
  {
   "cell_type": "code",
   "execution_count": 9,
   "id": "imported-coating",
   "metadata": {},
   "outputs": [
    {
     "name": "stdout",
     "output_type": "stream",
     "text": [
      "1\n",
      "2\n",
      "3\n",
      "4\n",
      "5\n",
      "6\n",
      "7\n",
      "8\n",
      "9\n",
      "10\n",
      "11\n",
      "12\n",
      "13\n",
      "14\n",
      "15\n",
      "16\n",
      "17\n",
      "18\n",
      "19\n",
      "20\n",
      "21\n"
     ]
    }
   ],
   "source": [
    "from numpy import mean\n",
    "from numpy import std\n",
    "from sklearn.datasets import make_classification\n",
    "from sklearn.model_selection import cross_val_score\n",
    "from sklearn.model_selection import RepeatedStratifiedKFold\n",
    "from sklearn.feature_selection import RFE\n",
    "from sklearn.tree import DecisionTreeClassifier\n",
    "from sklearn.pipeline import Pipeline\n",
    "\n",
    "n_score_list = []\n",
    "\n",
    "for i in range(1, len(X.columns)):\n",
    "    rfe = RFE(estimator=DecisionTreeClassifier(), n_features_to_select=i)\n",
    "    model = DecisionTreeClassifier()\n",
    "    pipeline = Pipeline(steps=[('s',rfe),('m',model)])\n",
    "    cv = RepeatedStratifiedKFold(n_splits=5, n_repeats=3, random_state=1)\n",
    "    n_scores = cross_val_score(pipeline, X_train_scaled, y_train, scoring='accuracy', cv=cv, n_jobs=-1, error_score='raise')\n",
    "    n_score_list.append(mean(n_scores))\n",
    "    print(i)"
   ]
  },
  {
   "cell_type": "code",
   "execution_count": 12,
   "id": "consecutive-vision",
   "metadata": {},
   "outputs": [
    {
     "data": {
      "text/plain": [
       "9"
      ]
     },
     "execution_count": 12,
     "metadata": {},
     "output_type": "execute_result"
    }
   ],
   "source": [
    "max_score = max(n_score_list[1:])\n",
    "best_features = n_score_list.index(max_score) + 1\n",
    "best_features"
   ]
  },
  {
   "cell_type": "code",
   "execution_count": 14,
   "id": "underlying-advocacy",
   "metadata": {},
   "outputs": [
    {
     "data": {
      "text/plain": [
       "0.9608491654488116"
      ]
     },
     "execution_count": 14,
     "metadata": {},
     "output_type": "execute_result"
    }
   ],
   "source": [
    "pipeline.fit(X_train_scaled, y_train)\n",
    "pipeline.score(X_test_scaled, y_test)"
   ]
  },
  {
   "cell_type": "code",
   "execution_count": 16,
   "id": "lasting-coalition",
   "metadata": {},
   "outputs": [
    {
     "data": {
      "text/plain": [
       "0.9600894012054118"
      ]
     },
     "execution_count": 16,
     "metadata": {},
     "output_type": "execute_result"
    }
   ],
   "source": [
    "average_n_scores = mean(n_score_list[1:])\n",
    "average_n_scores"
   ]
  },
  {
   "cell_type": "markdown",
   "id": "behind-presentation",
   "metadata": {},
   "source": [
    "## KNN"
   ]
  },
  {
   "cell_type": "code",
   "execution_count": 19,
   "id": "latin-swiss",
   "metadata": {},
   "outputs": [
    {
     "name": "stderr",
     "output_type": "stream",
     "text": [
      "/Users/elliottlevy/anaconda3/envs/PythonAdv/lib/python3.6/site-packages/sklearn/neighbors/_classification.py:179: DataConversionWarning: A column-vector y was passed when a 1d array was expected. Please change the shape of y to (n_samples,), for example using ravel().\n",
      "  return self._fit(X, y)\n"
     ]
    },
    {
     "name": "stdout",
     "output_type": "stream",
     "text": [
      "k: 1, Train/Test Score: 1.000/0.964\n"
     ]
    },
    {
     "name": "stderr",
     "output_type": "stream",
     "text": [
      "/Users/elliottlevy/anaconda3/envs/PythonAdv/lib/python3.6/site-packages/sklearn/neighbors/_classification.py:179: DataConversionWarning: A column-vector y was passed when a 1d array was expected. Please change the shape of y to (n_samples,), for example using ravel().\n",
      "  return self._fit(X, y)\n"
     ]
    },
    {
     "name": "stdout",
     "output_type": "stream",
     "text": [
      "k: 3, Train/Test Score: 0.981/0.974\n"
     ]
    },
    {
     "name": "stderr",
     "output_type": "stream",
     "text": [
      "/Users/elliottlevy/anaconda3/envs/PythonAdv/lib/python3.6/site-packages/sklearn/neighbors/_classification.py:179: DataConversionWarning: A column-vector y was passed when a 1d array was expected. Please change the shape of y to (n_samples,), for example using ravel().\n",
      "  return self._fit(X, y)\n"
     ]
    },
    {
     "name": "stdout",
     "output_type": "stream",
     "text": [
      "k: 5, Train/Test Score: 0.979/0.976\n"
     ]
    },
    {
     "name": "stderr",
     "output_type": "stream",
     "text": [
      "/Users/elliottlevy/anaconda3/envs/PythonAdv/lib/python3.6/site-packages/sklearn/neighbors/_classification.py:179: DataConversionWarning: A column-vector y was passed when a 1d array was expected. Please change the shape of y to (n_samples,), for example using ravel().\n",
      "  return self._fit(X, y)\n"
     ]
    },
    {
     "name": "stdout",
     "output_type": "stream",
     "text": [
      "k: 7, Train/Test Score: 0.978/0.976\n"
     ]
    },
    {
     "name": "stderr",
     "output_type": "stream",
     "text": [
      "/Users/elliottlevy/anaconda3/envs/PythonAdv/lib/python3.6/site-packages/sklearn/neighbors/_classification.py:179: DataConversionWarning: A column-vector y was passed when a 1d array was expected. Please change the shape of y to (n_samples,), for example using ravel().\n",
      "  return self._fit(X, y)\n"
     ]
    },
    {
     "name": "stdout",
     "output_type": "stream",
     "text": [
      "k: 9, Train/Test Score: 0.977/0.976\n"
     ]
    },
    {
     "name": "stderr",
     "output_type": "stream",
     "text": [
      "/Users/elliottlevy/anaconda3/envs/PythonAdv/lib/python3.6/site-packages/sklearn/neighbors/_classification.py:179: DataConversionWarning: A column-vector y was passed when a 1d array was expected. Please change the shape of y to (n_samples,), for example using ravel().\n",
      "  return self._fit(X, y)\n"
     ]
    },
    {
     "name": "stdout",
     "output_type": "stream",
     "text": [
      "k: 11, Train/Test Score: 0.977/0.977\n"
     ]
    },
    {
     "name": "stderr",
     "output_type": "stream",
     "text": [
      "/Users/elliottlevy/anaconda3/envs/PythonAdv/lib/python3.6/site-packages/sklearn/neighbors/_classification.py:179: DataConversionWarning: A column-vector y was passed when a 1d array was expected. Please change the shape of y to (n_samples,), for example using ravel().\n",
      "  return self._fit(X, y)\n"
     ]
    },
    {
     "name": "stdout",
     "output_type": "stream",
     "text": [
      "k: 13, Train/Test Score: 0.977/0.977\n"
     ]
    },
    {
     "name": "stderr",
     "output_type": "stream",
     "text": [
      "/Users/elliottlevy/anaconda3/envs/PythonAdv/lib/python3.6/site-packages/sklearn/neighbors/_classification.py:179: DataConversionWarning: A column-vector y was passed when a 1d array was expected. Please change the shape of y to (n_samples,), for example using ravel().\n",
      "  return self._fit(X, y)\n"
     ]
    },
    {
     "name": "stdout",
     "output_type": "stream",
     "text": [
      "k: 15, Train/Test Score: 0.977/0.976\n"
     ]
    },
    {
     "name": "stderr",
     "output_type": "stream",
     "text": [
      "/Users/elliottlevy/anaconda3/envs/PythonAdv/lib/python3.6/site-packages/sklearn/neighbors/_classification.py:179: DataConversionWarning: A column-vector y was passed when a 1d array was expected. Please change the shape of y to (n_samples,), for example using ravel().\n",
      "  return self._fit(X, y)\n"
     ]
    },
    {
     "name": "stdout",
     "output_type": "stream",
     "text": [
      "k: 17, Train/Test Score: 0.977/0.976\n"
     ]
    },
    {
     "name": "stderr",
     "output_type": "stream",
     "text": [
      "/Users/elliottlevy/anaconda3/envs/PythonAdv/lib/python3.6/site-packages/sklearn/neighbors/_classification.py:179: DataConversionWarning: A column-vector y was passed when a 1d array was expected. Please change the shape of y to (n_samples,), for example using ravel().\n",
      "  return self._fit(X, y)\n"
     ]
    },
    {
     "name": "stdout",
     "output_type": "stream",
     "text": [
      "k: 19, Train/Test Score: 0.977/0.976\n"
     ]
    }
   ],
   "source": [
    "from sklearn.neighbors import KNeighborsClassifier\n",
    "\n",
    "train_scores = []\n",
    "test_scores = []\n",
    "for k in range(1, 20, 2):\n",
    "    knn = KNeighborsClassifier(n_neighbors=k)\n",
    "    knn.fit(X_train_scaled, y_train)\n",
    "    train_score = knn.score(X_train_scaled, y_train)\n",
    "    test_score = knn.score(X_test_scaled, y_test)\n",
    "    train_scores.append(train_score)\n",
    "    test_scores.append(test_score)\n",
    "    print(f\"k: {k}, Train/Test Score: {train_score:.3f}/{test_score:.3f}\")"
   ]
  },
  {
   "cell_type": "code",
   "execution_count": 22,
   "id": "referenced-annex",
   "metadata": {},
   "outputs": [
    {
     "data": {
      "image/png": "[encoded data removed]",
      "text/plain": [
       "<Figure size 432x288 with 1 Axes>"
      ]
     },
     "metadata": {
      "needs_background": "light"
     },
     "output_type": "display_data"
    }
   ],
   "source": [
    "import matplotlib.pyplot as plt\n",
    "\n",
    "plt.plot(range(1, 20, 2), train_scores, marker='o')\n",
    "plt.plot(range(1, 20, 2), test_scores, marker=\"x\")\n",
    "plt.xlabel(\"k neighbors\")\n",
    "plt.ylabel(\"Testing accuracy Score\")\n",
    "plt.show()"
   ]
  },
  {
   "cell_type": "code",
   "execution_count": 23,
   "id": "unexpected-steering",
   "metadata": {},
   "outputs": [
    {
     "name": "stderr",
     "output_type": "stream",
     "text": [
      "/Users/elliottlevy/anaconda3/envs/PythonAdv/lib/python3.6/site-packages/sklearn/neighbors/_classification.py:179: DataConversionWarning: A column-vector y was passed when a 1d array was expected. Please change the shape of y to (n_samples,), for example using ravel().\n",
      "  return self._fit(X, y)\n",
      "/Users/elliottlevy/anaconda3/envs/PythonAdv/lib/python3.6/site-packages/sklearn/neighbors/_classification.py:179: DataConversionWarning: A column-vector y was passed when a 1d array was expected. Please change the shape of y to (n_samples,), for example using ravel().\n",
      "  return self._fit(X, y)\n",
      "/Users/elliottlevy/anaconda3/envs/PythonAdv/lib/python3.6/site-packages/sklearn/neighbors/_classification.py:179: DataConversionWarning: A column-vector y was passed when a 1d array was expected. Please change the shape of y to (n_samples,), for example using ravel().\n",
      "  return self._fit(X, y)\n",
      "/Users/elliottlevy/anaconda3/envs/PythonAdv/lib/python3.6/site-packages/sklearn/neighbors/_classification.py:179: DataConversionWarning: A column-vector y was passed when a 1d array was expected. Please change the shape of y to (n_samples,), for example using ravel().\n",
      "  return self._fit(X, y)\n",
      "/Users/elliottlevy/anaconda3/envs/PythonAdv/lib/python3.6/site-packages/sklearn/neighbors/_classification.py:179: DataConversionWarning: A column-vector y was passed when a 1d array was expected. Please change the shape of y to (n_samples,), for example using ravel().\n",
      "  return self._fit(X, y)\n",
      "/Users/elliottlevy/anaconda3/envs/PythonAdv/lib/python3.6/site-packages/sklearn/neighbors/_classification.py:179: DataConversionWarning: A column-vector y was passed when a 1d array was expected. Please change the shape of y to (n_samples,), for example using ravel().\n",
      "  return self._fit(X, y)\n",
      "/Users/elliottlevy/anaconda3/envs/PythonAdv/lib/python3.6/site-packages/sklearn/neighbors/_classification.py:179: DataConversionWarning: A column-vector y was passed when a 1d array was expected. Please change the shape of y to (n_samples,), for example using ravel().\n",
      "  return self._fit(X, y)\n",
      "/Users/elliottlevy/anaconda3/envs/PythonAdv/lib/python3.6/site-packages/sklearn/neighbors/_classification.py:179: DataConversionWarning: A column-vector y was passed when a 1d array was expected. Please change the shape of y to (n_samples,), for example using ravel().\n",
      "  return self._fit(X, y)\n",
      "/Users/elliottlevy/anaconda3/envs/PythonAdv/lib/python3.6/site-packages/sklearn/neighbors/_classification.py:179: DataConversionWarning: A column-vector y was passed when a 1d array was expected. Please change the shape of y to (n_samples,), for example using ravel().\n",
      "  return self._fit(X, y)\n",
      "/Users/elliottlevy/anaconda3/envs/PythonAdv/lib/python3.6/site-packages/sklearn/neighbors/_classification.py:179: DataConversionWarning: A column-vector y was passed when a 1d array was expected. Please change the shape of y to (n_samples,), for example using ravel().\n",
      "  return self._fit(X, y)\n"
     ]
    }
   ],
   "source": [
    "import numpy as np\n",
    "\n",
    "draft_pred_len = []\n",
    "for k in range(1, 20, 2):\n",
    "    knn = KNeighborsClassifier(n_neighbors=k)\n",
    "    knn.fit(X_train_scaled, y_train)\n",
    "    preds = knn.predict(X_test_scaled)\n",
    "    drafted = sum(np.unique(preds, return_counts=True)[1][1:])\n",
    "    draft_pred_len.append(drafted)"
   ]
  },
  {
   "cell_type": "code",
   "execution_count": 24,
   "id": "otherwise-birth",
   "metadata": {},
   "outputs": [
    {
     "data": {
      "text/plain": [
       "[267, 78, 40, 28, 19, 18, 14, 11, 11, 10]"
      ]
     },
     "execution_count": 24,
     "metadata": {},
     "output_type": "execute_result"
    }
   ],
   "source": [
    "draft_pred_len"
   ]
  },
  {
   "cell_type": "code",
   "execution_count": null,
   "id": "choice-license",
   "metadata": {},
   "outputs": [],
   "source": []
  }
 ],
 "metadata": {
  "kernelspec": {
   "display_name": "Python [conda env:PythonAdv] *",
   "language": "python",
   "name": "conda-env-PythonAdv-py"
  },
  "language_info": {
   "codemirror_mode": {
    "name": "ipython",
    "version": 3
   },
   "file_extension": ".py",
   "mimetype": "text/x-python",
   "name": "python",
   "nbconvert_exporter": "python",
   "pygments_lexer": "ipython3",
   "version": "3.6.13"
  }
 },
 "nbformat": 4,
 "nbformat_minor": 5
}
